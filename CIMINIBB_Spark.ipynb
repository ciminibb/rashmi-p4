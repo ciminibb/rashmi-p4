{
 "cells": [
  {
   "cell_type": "code",
   "execution_count": 80,
   "metadata": {},
   "outputs": [
    {
     "name": "stdout",
     "output_type": "stream",
     "text": [
      "Requirement already satisfied: pyspark in c:\\users\\benci\\appdata\\local\\programs\\python\\python310\\lib\\site-packages (3.5.3)\n",
      "Requirement already satisfied: py4j==0.10.9.7 in c:\\users\\benci\\appdata\\local\\programs\\python\\python310\\lib\\site-packages (from pyspark) (0.10.9.7)\n"
     ]
    },
    {
     "name": "stderr",
     "output_type": "stream",
     "text": [
      "\n",
      "[notice] A new release of pip is available: 23.0.1 -> 24.3.1\n",
      "[notice] To update, run: python.exe -m pip install --upgrade pip\n"
     ]
    }
   ],
   "source": [
    "# Run a shell command to ensure pyspark is downloaded in the Python environment.\n",
    "!python -m pip install pyspark\n",
    "\n",
    "from pyspark.sql import SparkSession\n",
    "from pyspark.sql.functions import input_file_name\n",
    "from pyspark.sql.functions import regexp_replace, split"
   ]
  },
  {
   "cell_type": "code",
   "execution_count": 81,
   "metadata": {},
   "outputs": [],
   "source": [
    "# Set up Spark Session, which is an entry point to the PySpark application.\n",
    "spark = SparkSession.builder \\\n",
    "    .appName(\"Weather Insights\") \\\n",
    "    .getOrCreate()"
   ]
  },
  {
   "cell_type": "code",
   "execution_count": null,
   "metadata": {},
   "outputs": [],
   "source": [
    "# Load CSV files using filepath wildcard to open all files of the same type at once.\n",
    "# In some analysis we are concerned with the dataset to which specific data belongs.\n",
    "# To capture that information, we can add a filename column to the data frame on creation.\n",
    "filepath = \"C:/Users/benci/College/Class/6th Year/2024 Fall (CS)/INTRO TO CLOUD COMPUTING/Projects/P4/rashmi-p4/data/*.csv\"\n",
    "dataframe = spark.read.option(\"header\", \"true\").csv(filepath).withColumn(\"filename\", input_file_name())\n",
    "\n",
    "# It's beneficial to trim the filename for readability in results, hence the following line.\n",
    "# To be clear, it splits the filename by delimiters then selects the last listed value, the\n",
    "# actual name.\n",
    "dataframe = dataframe.withColumn(\"filename\", split(dataframe[\"filename\"], \"/\")[15]) # Indexing by -1 wasn't working???"
   ]
  },
  {
   "cell_type": "code",
   "execution_count": 83,
   "metadata": {},
   "outputs": [
    {
     "name": "stdout",
     "output_type": "stream",
     "text": [
      "root\n",
      " |-- STATION: string (nullable = true)\n",
      " |-- DATE: string (nullable = true)\n",
      " |-- LATITUDE: string (nullable = true)\n",
      " |-- LONGITUDE: string (nullable = true)\n",
      " |-- ELEVATION: string (nullable = true)\n",
      " |-- NAME: string (nullable = true)\n",
      " |-- TEMP: string (nullable = true)\n",
      " |-- TEMP_ATTRIBUTES: string (nullable = true)\n",
      " |-- DEWP: string (nullable = true)\n",
      " |-- DEWP_ATTRIBUTES: string (nullable = true)\n",
      " |-- SLP: string (nullable = true)\n",
      " |-- SLP_ATTRIBUTES: string (nullable = true)\n",
      " |-- STP: string (nullable = true)\n",
      " |-- STP_ATTRIBUTES: string (nullable = true)\n",
      " |-- VISIB: string (nullable = true)\n",
      " |-- VISIB_ATTRIBUTES: string (nullable = true)\n",
      " |-- WDSP: string (nullable = true)\n",
      " |-- WDSP_ATTRIBUTES: string (nullable = true)\n",
      " |-- MXSPD: string (nullable = true)\n",
      " |-- GUST: string (nullable = true)\n",
      " |-- MAX: string (nullable = true)\n",
      " |-- MAX_ATTRIBUTES: string (nullable = true)\n",
      " |-- MIN: string (nullable = true)\n",
      " |-- MIN_ATTRIBUTES: string (nullable = true)\n",
      " |-- PRCP: string (nullable = true)\n",
      " |-- PRCP_ATTRIBUTES: string (nullable = true)\n",
      " |-- SNDP: string (nullable = true)\n",
      " |-- FRSHTT: string (nullable = true)\n",
      " |-- filename: string (nullable = true)\n",
      "\n",
      "+-----------+----------+--------+---------+---------+--------------------+------+---------------+------+---------------+------+--------------+-----+--------------+-----+----------------+-----+---------------+-----+-----+------+--------------+------+--------------+-----+---------------+-----+------+--------------------+\n",
      "|    STATION|      DATE|LATITUDE|LONGITUDE|ELEVATION|                NAME|  TEMP|TEMP_ATTRIBUTES|  DEWP|DEWP_ATTRIBUTES|   SLP|SLP_ATTRIBUTES|  STP|STP_ATTRIBUTES|VISIB|VISIB_ATTRIBUTES| WDSP|WDSP_ATTRIBUTES|MXSPD| GUST|   MAX|MAX_ATTRIBUTES|   MIN|MIN_ATTRIBUTES| PRCP|PRCP_ATTRIBUTES| SNDP|FRSHTT|            filename|\n",
      "+-----------+----------+--------+---------+---------+--------------------+------+---------------+------+---------------+------+--------------+-----+--------------+-----+----------------+-----+---------------+-----+-----+------+--------------+------+--------------+-----+---------------+-----+------+--------------------+\n",
      "|72429793812|2016-01-01|  39.106|-84.41609|    144.8|CINCINNATI MUNICI...|  32.7|             24|  23.6|             24|1026.6|            22|008.0|            24| 10.0|              24|  9.4|             24| 15.0| 19.0|  39.9|              |  28.0|              | 0.00|              G|999.9|000000|2016_72429793812.csv|\n",
      "|72429793812|2016-01-02|  39.106|-84.41609|    144.8|CINCINNATI MUNICI...|  32.6|             24|  24.0|             24|1023.6|            24|005.0|            24| 10.0|              24|  7.5|             24| 12.0|999.9|  43.0|              |  25.0|              | 0.00|              G|999.9|000000|2016_72429793812.csv|\n",
      "|72429793812|2016-01-03|  39.106|-84.41609|    144.8|CINCINNATI MUNICI...|  32.6|             24|  25.5|             24|1018.7|            23|000.4|            24| 10.0|              24|  6.3|             24| 11.1| 15.9|  43.0|              |  25.0|              | 0.00|              G|999.9|000000|2016_72429793812.csv|\n",
      "|72429793812|2016-01-04|  39.106|-84.41609|    144.8|CINCINNATI MUNICI...|  32.0|             24|  22.5|             24|1026.6|            18|007.8|            24| 10.0|              24|  7.9|             24| 11.1|999.9|  37.0|              |  26.1|              | 0.00|              G|999.9|001000|2016_72429793812.csv|\n",
      "|72429793812|2016-01-05|  39.106|-84.41609|    144.8|CINCINNATI MUNICI...|  24.5|             24|  13.9|             24|1036.4|            24|017.5|            24| 10.0|              24|  3.5|             24|  8.9|999.9|  36.0|              |  16.0|              | 0.00|              G|999.9|000000|2016_72429793812.csv|\n",
      "+-----------+----------+--------+---------+---------+--------------------+------+---------------+------+---------------+------+--------------+-----+--------------+-----+----------------+-----+---------------+-----+-----+------+--------------+------+--------------+-----+---------------+-----+------+--------------------+\n",
      "only showing top 5 rows\n",
      "\n"
     ]
    }
   ],
   "source": [
    "# Check if the data was loaded correctly by printing the schema and a few rows.\n",
    "dataframe.printSchema()\n",
    "dataframe.show(5)"
   ]
  },
  {
   "cell_type": "code",
   "execution_count": 84,
   "metadata": {},
   "outputs": [
    {
     "name": "stdout",
     "output_type": "stream",
     "text": [
      "+--------------------+-----+\n",
      "|filename            |count|\n",
      "+--------------------+-----+\n",
      "|2020_72429793812.csv|366  |\n",
      "|2016_72429793812.csv|366  |\n",
      "|2017_72429793812.csv|365  |\n",
      "|2015_72429793812.csv|365  |\n",
      "|2018_72429793812.csv|365  |\n",
      "|2019_72429793812.csv|365  |\n",
      "|2022_72429793812.csv|365  |\n",
      "|2021_72429793812.csv|365  |\n",
      "|2020_99495199999.csv|365  |\n",
      "|2023_72429793812.csv|365  |\n",
      "|2018_99495199999.csv|363  |\n",
      "|2015_99495199999.csv|355  |\n",
      "|2019_99495199999.csv|345  |\n",
      "|2024_72429793812.csv|301  |\n",
      "|2023_99495199999.csv|276  |\n",
      "|2017_99495199999.csv|283  |\n",
      "|2022_99495199999.csv|259  |\n",
      "|2024_99495199999.csv|133  |\n",
      "|2021_99495199999.csv|104  |\n",
      "+--------------------+-----+\n",
      "\n"
     ]
    }
   ],
   "source": [
    "# Group by filename and count rows\n",
    "file_counts = dataframe.groupBy(\"filename\").count()\n",
    "file_counts.show(truncate=False)"
   ]
  }
 ],
 "metadata": {
  "kernelspec": {
   "display_name": "Python 3",
   "language": "python",
   "name": "python3"
  },
  "language_info": {
   "codemirror_mode": {
    "name": "ipython",
    "version": 3
   },
   "file_extension": ".py",
   "mimetype": "text/x-python",
   "name": "python",
   "nbconvert_exporter": "python",
   "pygments_lexer": "ipython3",
   "version": "3.10.5"
  }
 },
 "nbformat": 4,
 "nbformat_minor": 2
}
