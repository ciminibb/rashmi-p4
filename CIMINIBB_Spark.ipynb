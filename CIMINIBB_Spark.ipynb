{
 "cells": [
  {
   "cell_type": "code",
   "execution_count": 1,
   "metadata": {},
   "outputs": [
    {
     "name": "stderr",
     "output_type": "stream",
     "text": [
      "\n",
      "[notice] A new release of pip is available: 23.0.1 -> 24.3.1\n",
      "[notice] To update, run: python.exe -m pip install --upgrade pip\n"
     ]
    },
    {
     "name": "stdout",
     "output_type": "stream",
     "text": [
      "Requirement already satisfied: pyspark in c:\\users\\benci\\appdata\\local\\programs\\python\\python310\\lib\\site-packages (3.5.3)\n",
      "Requirement already satisfied: py4j==0.10.9.7 in c:\\users\\benci\\appdata\\local\\programs\\python\\python310\\lib\\site-packages (from pyspark) (0.10.9.7)\n"
     ]
    }
   ],
   "source": [
    "# Run a shell command to ensure pyspark is downloaded in the Python environment.\n",
    "!python -m pip install pyspark\n",
    "\n",
    "from pyspark.sql import SparkSession, Window\n",
    "from pyspark.sql.functions import year, month, col, row_number, trim, input_file_name, split, mean, count, when, median, mode, stddev, max, first"
   ]
  },
  {
   "cell_type": "code",
   "execution_count": null,
   "metadata": {},
   "outputs": [],
   "source": [
    "# Set up Spark Session, which is an entry point to the PySpark application.\n",
    "spark = SparkSession.builder \\\n",
    "    .appName(\"Weather Insights\") \\\n",
    "    .getOrCreate()"
   ]
  },
  {
   "cell_type": "code",
   "execution_count": null,
   "metadata": {},
   "outputs": [],
   "source": [
    "# Load CSV files using filepath wildcard to open all files of the same type at once.\n",
    "# In some analysis we are concerned with the dataset to which specific data belongs.\n",
    "# To capture that information, we can add a filename column to the data frame on creation.\n",
    "filepath = \"C:/Users/benci/College/Class/6th Year/2024 Fall (CS)/INTRO TO CLOUD COMPUTING/Projects/P4/rashmi-p4/data/*.csv\"\n",
    "dataframe = spark.read.option(\"header\", \"true\").option(\"mode\", \"DROPMALFORMED\").csv(filepath).withColumn(\"filename\", input_file_name())\n",
    "\n",
    "# It's beneficial to trim the filename for readability in results, hence the following line.\n",
    "# To be clear, it splits the filename by delimiters then selects the last listed value, the\n",
    "# actual name.\n",
    "dataframe = dataframe.withColumn(\"filename\", split(dataframe[\"filename\"], \"/\")[15]) # Indexing by -1 wasn't working???\n",
    "\n",
    "# Looking at the printed schema, it's clear that all columns have string type by default.\n",
    "# That won't work, as we need to do numeric computations on some values. So, I'll be cleaning\n",
    "# the data by casting essential columns to floats and removing empty values, where needed.\n",
    "dataframe = dataframe.withColumn(\"MAX\", trim(col(\"MAX\")).cast(\"float\")) # Convert MAX to float.\n",
    "dataframe = dataframe.withColumn(\"MIN\", trim(col(\"MIN\")).cast(\"float\")) # Convert MIN to float.\n",
    "dataframe = dataframe.withColumn(\"PRCP\", trim(col(\"PRCP\")).cast(\"float\")) # Convert PRCP to float.\n",
    "dataframe = dataframe.withColumn(\"TEMP\", trim(col(\"TEMP\")).cast(\"float\")) # Convert TEMP to float.\n",
    "# I'M NOT TYPE CASTING \"GUST\" BECAUSE IT CAUSES FLOAT PRECISION ERRORS.\n",
    "dataframe = dataframe.withColumn(\"DATE\", col(\"DATE\").cast(\"date\")) # Convert DATE to DATE.\n",
    "\n",
    "dataframe = dataframe \\\n",
    "    .withColumn(\"YEAR\", year(col(\"DATE\"))) \\\n",
    "    .withColumn(\"MONTH\", month(col(\"DATE\")))"
   ]
  },
  {
   "cell_type": "code",
   "execution_count": null,
   "metadata": {},
   "outputs": [
    {
     "name": "stdout",
     "output_type": "stream",
     "text": [
      "root\n",
      " |-- STATION: string (nullable = true)\n",
      " |-- DATE: date (nullable = true)\n",
      " |-- LATITUDE: string (nullable = true)\n",
      " |-- LONGITUDE: string (nullable = true)\n",
      " |-- ELEVATION: string (nullable = true)\n",
      " |-- NAME: string (nullable = true)\n",
      " |-- TEMP: float (nullable = true)\n",
      " |-- TEMP_ATTRIBUTES: string (nullable = true)\n",
      " |-- DEWP: string (nullable = true)\n",
      " |-- DEWP_ATTRIBUTES: string (nullable = true)\n",
      " |-- SLP: string (nullable = true)\n",
      " |-- SLP_ATTRIBUTES: string (nullable = true)\n",
      " |-- STP: string (nullable = true)\n",
      " |-- STP_ATTRIBUTES: string (nullable = true)\n",
      " |-- VISIB: string (nullable = true)\n",
      " |-- VISIB_ATTRIBUTES: string (nullable = true)\n",
      " |-- WDSP: string (nullable = true)\n",
      " |-- WDSP_ATTRIBUTES: string (nullable = true)\n",
      " |-- MXSPD: string (nullable = true)\n",
      " |-- GUST: string (nullable = true)\n",
      " |-- MAX: float (nullable = true)\n",
      " |-- MAX_ATTRIBUTES: string (nullable = true)\n",
      " |-- MIN: float (nullable = true)\n",
      " |-- MIN_ATTRIBUTES: string (nullable = true)\n",
      " |-- PRCP: float (nullable = true)\n",
      " |-- PRCP_ATTRIBUTES: string (nullable = true)\n",
      " |-- SNDP: string (nullable = true)\n",
      " |-- FRSHTT: string (nullable = true)\n",
      " |-- filename: string (nullable = true)\n",
      " |-- YEAR: integer (nullable = true)\n",
      " |-- MONTH: integer (nullable = true)\n",
      "\n",
      "+-----------+----------+--------+---------+---------+--------------------+----+---------------+------+---------------+------+--------------+-----+--------------+-----+----------------+-----+---------------+-----+-----+----+--------------+----+--------------+----+---------------+-----+------+--------------------+----+-----+\n",
      "|    STATION|      DATE|LATITUDE|LONGITUDE|ELEVATION|                NAME|TEMP|TEMP_ATTRIBUTES|  DEWP|DEWP_ATTRIBUTES|   SLP|SLP_ATTRIBUTES|  STP|STP_ATTRIBUTES|VISIB|VISIB_ATTRIBUTES| WDSP|WDSP_ATTRIBUTES|MXSPD| GUST| MAX|MAX_ATTRIBUTES| MIN|MIN_ATTRIBUTES|PRCP|PRCP_ATTRIBUTES| SNDP|FRSHTT|            filename|YEAR|MONTH|\n",
      "+-----------+----------+--------+---------+---------+--------------------+----+---------------+------+---------------+------+--------------+-----+--------------+-----+----------------+-----+---------------+-----+-----+----+--------------+----+--------------+----+---------------+-----+------+--------------------+----+-----+\n",
      "|72429793812|2016-01-01|  39.106|-84.41609|    144.8|CINCINNATI MUNICI...|32.7|             24|  23.6|             24|1026.6|            22|008.0|            24| 10.0|              24|  9.4|             24| 15.0| 19.0|39.9|              |28.0|              | 0.0|              G|999.9|000000|2016_72429793812.csv|2016|    1|\n",
      "|72429793812|2016-01-02|  39.106|-84.41609|    144.8|CINCINNATI MUNICI...|32.6|             24|  24.0|             24|1023.6|            24|005.0|            24| 10.0|              24|  7.5|             24| 12.0|999.9|43.0|              |25.0|              | 0.0|              G|999.9|000000|2016_72429793812.csv|2016|    1|\n",
      "|72429793812|2016-01-03|  39.106|-84.41609|    144.8|CINCINNATI MUNICI...|32.6|             24|  25.5|             24|1018.7|            23|000.4|            24| 10.0|              24|  6.3|             24| 11.1| 15.9|43.0|              |25.0|              | 0.0|              G|999.9|000000|2016_72429793812.csv|2016|    1|\n",
      "|72429793812|2016-01-04|  39.106|-84.41609|    144.8|CINCINNATI MUNICI...|32.0|             24|  22.5|             24|1026.6|            18|007.8|            24| 10.0|              24|  7.9|             24| 11.1|999.9|37.0|              |26.1|              | 0.0|              G|999.9|001000|2016_72429793812.csv|2016|    1|\n",
      "|72429793812|2016-01-05|  39.106|-84.41609|    144.8|CINCINNATI MUNICI...|24.5|             24|  13.9|             24|1036.4|            24|017.5|            24| 10.0|              24|  3.5|             24|  8.9|999.9|36.0|              |16.0|              | 0.0|              G|999.9|000000|2016_72429793812.csv|2016|    1|\n",
      "+-----------+----------+--------+---------+---------+--------------------+----+---------------+------+---------------+------+--------------+-----+--------------+-----+----------------+-----+---------------+-----+-----+----+--------------+----+--------------+----+---------------+-----+------+--------------------+----+-----+\n",
      "only showing top 5 rows\n",
      "\n"
     ]
    }
   ],
   "source": [
    "# Check if the data was loaded correctly by printing the schema and a few rows.\n",
    "dataframe.printSchema()\n",
    "dataframe.show(5)"
   ]
  },
  {
   "cell_type": "code",
   "execution_count": null,
   "metadata": {},
   "outputs": [
    {
     "name": "stdout",
     "output_type": "stream",
     "text": [
      "+--------------------+-----+\n",
      "|filename            |count|\n",
      "+--------------------+-----+\n",
      "|2020_72429793812.csv|366  |\n",
      "|2016_72429793812.csv|366  |\n",
      "|2017_72429793812.csv|365  |\n",
      "|2015_72429793812.csv|365  |\n",
      "|2018_72429793812.csv|365  |\n",
      "|2019_72429793812.csv|365  |\n",
      "|2022_72429793812.csv|365  |\n",
      "|2021_72429793812.csv|365  |\n",
      "|2020_99495199999.csv|365  |\n",
      "|2023_72429793812.csv|365  |\n",
      "|2018_99495199999.csv|363  |\n",
      "|2015_99495199999.csv|355  |\n",
      "|2019_99495199999.csv|345  |\n",
      "|2024_72429793812.csv|301  |\n",
      "|2023_99495199999.csv|276  |\n",
      "|2017_99495199999.csv|283  |\n",
      "|2022_99495199999.csv|259  |\n",
      "|2024_99495199999.csv|133  |\n",
      "|2021_99495199999.csv|104  |\n",
      "+--------------------+-----+\n",
      "\n"
     ]
    }
   ],
   "source": [
    "# Group by filename and count rows\n",
    "file_counts = dataframe.groupBy(\"filename\").count()\n",
    "file_counts.show(truncate=False)"
   ]
  },
  {
   "cell_type": "code",
   "execution_count": null,
   "metadata": {},
   "outputs": [
    {
     "name": "stdout",
     "output_type": "stream",
     "text": [
      "+-----------+--------------------+----------+-----+\n",
      "|    STATION|                NAME|      DATE|  MAX|\n",
      "+-----------+--------------------+----------+-----+\n",
      "|72429793812|CINCINNATI MUNICI...|2024-08-30|100.9|\n",
      "|72429793812|CINCINNATI MUNICI...|2018-07-04| 96.1|\n",
      "|72429793812|CINCINNATI MUNICI...|2022-06-14| 96.1|\n",
      "|72429793812|CINCINNATI MUNICI...|2023-08-23| 96.1|\n",
      "|72429793812|CINCINNATI MUNICI...|2019-09-30| 95.0|\n",
      "|72429793812|CINCINNATI MUNICI...|2021-08-12| 95.0|\n",
      "|72429793812|CINCINNATI MUNICI...|2016-07-24| 93.9|\n",
      "|72429793812|CINCINNATI MUNICI...|2020-07-05| 93.9|\n",
      "|72429793812|CINCINNATI MUNICI...|2015-06-12| 91.9|\n",
      "|72429793812|CINCINNATI MUNICI...|2017-07-22| 91.9|\n",
      "+-----------+--------------------+----------+-----+\n",
      "\n"
     ]
    }
   ],
   "source": [
    "# THIS CELL COMPUTES THE HOTTEST DAY IN EACH YEAR\n",
    "\n",
    "# Before doing anything, we need to get rid of any erroneously high temperature readings.\n",
    "# Using my personal discretion, I'm choosing to consider any temperature above 150F as\n",
    "# error.\n",
    "hottest_cleaned = dataframe \\\n",
    "    .filter(col(\"MAX\") < 150)\n",
    "\n",
    "# Create a window specification for ranking the days within each year by their\n",
    "# highest temperature.\n",
    "hottest_window = Window.partitionBy(\"YEAR\").orderBy(col(\"MAX\").desc())\n",
    "\n",
    "# Add a column to store the \"RANK\" of each day. That is, how its high temperature\n",
    "# compared with other days in the same year.\n",
    "hottest_days = hottest_cleaned.withColumn(\"RANK\", row_number().over(hottest_window))\n",
    "\n",
    "# Run a filter to get the single hottest day of each year.\n",
    "hottest_days = hottest_days.filter(col(\"RANK\") == 1) \\\n",
    "    .select(\"STATION\", \"NAME\", \"DATE\", \"MAX\") \\\n",
    "    .orderBy(col(\"MAX\").desc())\n",
    "\n",
    "hottest_days.show()"
   ]
  },
  {
   "cell_type": "code",
   "execution_count": null,
   "metadata": {},
   "outputs": [
    {
     "name": "stdout",
     "output_type": "stream",
     "text": [
      "+-----------+--------------------+----------+----+\n",
      "|    STATION|                NAME|      DATE| MIN|\n",
      "+-----------+--------------------+----------+----+\n",
      "|72429793812|CINCINNATI MUNICI...|2015-03-06| 3.2|\n",
      "|72429793812|CINCINNATI MUNICI...|2019-03-05|10.0|\n",
      "|72429793812|CINCINNATI MUNICI...|2023-03-15|17.1|\n",
      "|72429793812|CINCINNATI MUNICI...|2022-03-13|18.0|\n",
      "|72429793812|CINCINNATI MUNICI...|2017-03-15|19.0|\n",
      "|72429793812|CINCINNATI MUNICI...|2020-03-01|19.0|\n",
      "|72429793812|CINCINNATI MUNICI...|2018-03-22|21.0|\n",
      "|72429793812|CINCINNATI MUNICI...|2024-03-01|23.0|\n",
      "|72429793812|CINCINNATI MUNICI...|2021-03-02|24.1|\n",
      "|72429793812|CINCINNATI MUNICI...|2016-03-02|26.1|\n",
      "+-----------+--------------------+----------+----+\n",
      "\n"
     ]
    }
   ],
   "source": [
    "# THIS CELL COMPUTES THE COLDEST DAY OF EACH YEAR, BUT ONLY FROM MARCH\n",
    "\n",
    "# Run a filter to ensure we're only looking at data from March. There was no obviously\n",
    "# erroneus data for the coldest temperatures, so I didn't worry about filtering it.\n",
    "coldest_cleaned = dataframe \\\n",
    "    .filter(col(\"MONTH\") == 3)\n",
    "\n",
    "# Create a window specification for ranking the days within each year by their\n",
    "# lowest temperature. This time we'll rank in ascending order, so the coldest\n",
    "# days get the highest ranks.\n",
    "coldest_window = Window.partitionBy(\"YEAR\").orderBy(col(\"MIN\").asc())\n",
    "\n",
    "# Add a column to store the \"RANK\" of each day.\n",
    "coldest_days = coldest_cleaned.withColumn(\"RANK\", row_number().over(coldest_window))\n",
    "\n",
    "# Run a filter to get the single hottest day of each year.\n",
    "coldest_days = coldest_days.filter(col(\"RANK\") == 1) \\\n",
    "    .select(\"STATION\", \"NAME\", \"DATE\", \"MIN\") \\\n",
    "    .orderBy(col(\"MIN\").asc())\n",
    "\n",
    "coldest_days.show()"
   ]
  },
  {
   "cell_type": "code",
   "execution_count": null,
   "metadata": {},
   "outputs": [
    {
     "name": "stdout",
     "output_type": "stream",
     "text": [
      "+--------------------+----+-------------------+\n",
      "|                NAME|YEAR| MEAN_PRECIPITATION|\n",
      "+--------------------+----+-------------------+\n",
      "|CINCINNATI MUNICI...|2018|0.15789040991500633|\n",
      "|SEBASTIAN INLET S...|2020|                0.0|\n",
      "+--------------------+----+-------------------+\n",
      "\n"
     ]
    }
   ],
   "source": [
    "# THIS CELL COMPUTES THE YEAR WITH THE MOST PRECIPITATION AT EACH STATION\n",
    "\n",
    "# Clean erroneous precipitation readings.\n",
    "wettest_cleaned = dataframe \\\n",
    "    .filter(col(\"PRCP\") < 99)\n",
    "\n",
    "# Aggregate the mean precipitation by station and year.\n",
    "wettest_year_at_station = wettest_cleaned \\\n",
    "    .groupBy(\"YEAR\", \"NAME\") \\\n",
    "    .agg(mean(\"PRCP\").alias(\"MEAN_PRECIPITATION\"))\n",
    "    \n",
    "# Rank the mean precipitations in order to find the greatest for both station. Filter\n",
    "# the dataframe for only those top ranked records.\n",
    "wettest_window = Window.partitionBy(\"NAME\").orderBy(col(\"MEAN_PRECIPITATION\").desc())\n",
    "    \n",
    "wettest_year_at_station = wettest_year_at_station \\\n",
    "    .withColumn(\"RANK\", row_number().over(wettest_window)) \\\n",
    "    .filter(col(\"RANK\") == 1) \\\n",
    "    .select(\"NAME\", \"YEAR\", \"MEAN_PRECIPITATION\")\n",
    "\n",
    "wettest_year_at_station.show()"
   ]
  },
  {
   "cell_type": "code",
   "execution_count": null,
   "metadata": {},
   "outputs": [
    {
     "name": "stdout",
     "output_type": "stream",
     "text": [
      "+--------------------+-----------------+\n",
      "|                NAME|        MISSING_%|\n",
      "+--------------------+-----------------+\n",
      "|CINCINNATI MUNICI...|39.53488372093023|\n",
      "|SEBASTIAN INLET S...|            100.0|\n",
      "+--------------------+-----------------+\n",
      "\n"
     ]
    }
   ],
   "source": [
    "# THIS CELL COMPUTES THE PERCENTAGE OF MISSING VALUES FOR EACH STATION IN 2024\n",
    "\n",
    "# Clean the data. In this case, we have no interest in removing missing values. Rather,\n",
    "# we want to filter out any data not from the year 2024.\n",
    "gust_cleaned = dataframe \\\n",
    "    .filter(col(\"YEAR\") == 2024)\n",
    "\n",
    "# Compute total records and missing GUST data, grouped by name of station to get\n",
    "# distinct values for each. THIS RESULT DEPENDS ON WHAT YOU CONSIDER TO BE A MISSING\n",
    "# VALUE: NULL OR ANY ERRONEOUS CASE. I'M CONSIDERING ERRONEOUS DATA AS MISSING. THAT\n",
    "# IS, GUSTS OF 999.9 ARE MISSING.\n",
    "missing_gust = gust_cleaned \\\n",
    "    .groupBy(\"NAME\") \\\n",
    "    .agg(\n",
    "        count(\"*\").alias(\"total\"),  # Count total records per station\n",
    "        count(when(col(\"GUST\").isNull() | (col(\"GUST\") == \"999.9\"), True)).alias(\"missing\")  # Count missing values\n",
    "    )\n",
    "\n",
    "# Derive % from the above.\n",
    "missing_gust_pct = missing_gust \\\n",
    "    .withColumn(\"MISSING_%\", (col(\"missing\") / col(\"total\")) * 100) \\\n",
    "    .select(\"NAME\", \"MISSING_%\")\n",
    "\n",
    "missing_gust_pct.show()"
   ]
  },
  {
   "cell_type": "code",
   "execution_count": null,
   "metadata": {},
   "outputs": [
    {
     "name": "stdout",
     "output_type": "stream",
     "text": [
      "+-----+------------------+-----------------+---------+------------------+\n",
      "|MONTH|         mean_temp|      median_temp|mode_temp|       stddev_temp|\n",
      "+-----+------------------+-----------------+---------+------------------+\n",
      "|    1|37.945161081129505|37.70000076293945|     24.7| 8.345810838316384|\n",
      "|    2| 36.58965525133856|             36.0|     30.8| 7.901597947537755|\n",
      "|    3|  49.0741934007214|47.79999923706055|     47.8|  8.77940669347644|\n",
      "|    4| 51.77999992370606|51.10000038146973|     46.8|7.3131621276074465|\n",
      "|    5| 60.89032290058751|63.70000076293945|     73.9| 9.314768319579512|\n",
      "|    6| 72.54666570027669|73.94999694824219|     74.2|4.8999458590264515|\n",
      "|    7|  77.6000001968876| 77.9000015258789|     78.4| 2.337947626620972|\n",
      "|    8| 73.34516143798828|73.69999694824219|     67.4|3.4878690606063563|\n",
      "|    9| 66.09999961853028| 66.1500015258789|     72.7| 7.118261579669542|\n",
      "|   10| 55.19354851015152|             54.0|     61.6|6.7286914818367975|\n",
      "|   11| 48.00333340962728|47.70000076293945|     47.7| 6.825938707865554|\n",
      "|   12| 35.99354830095845|35.20000076293945|     37.4|6.6427872766495755|\n",
      "+-----+------------------+-----------------+---------+------------------+\n",
      "\n"
     ]
    }
   ],
   "source": [
    "# THIS CELL COMPUTES THE MEAN, MEDIAN, MODE, AND STANDARD DEVIATION OF CINCINNATI TEMPS\n",
    "# IN 2020\n",
    "\n",
    "# Branch from the dataframe with only 2020 Cincy data.\n",
    "cincy20_cleansed = dataframe \\\n",
    "    .filter((col(\"NAME\") == \"CINCINNATI MUNICIPAL AIRPORT LUNKEN FIELD, OH US\") & (col(\"YEAR\") == 2020))\n",
    "    \n",
    "# Compute summary statistics over the Cincy data.\n",
    "cincy20_stats = cincy20_cleansed \\\n",
    "    .groupBy(\"MONTH\") \\\n",
    "    .agg(\n",
    "        mean(\"TEMP\").alias(\"mean_temp\"),\n",
    "        median(\"TEMP\").alias(\"median_temp\"),\n",
    "        mode(\"TEMP\").alias(\"mode_temp\"),\n",
    "        stddev(\"TEMP\").alias(\"stddev_temp\")\n",
    "    ) \\\n",
    "    .orderBy(col(\"MONTH\").asc())\n",
    "    \n",
    "cincy20_stats.show()"
   ]
  },
  {
   "cell_type": "code",
   "execution_count": null,
   "metadata": {},
   "outputs": [
    {
     "name": "stdout",
     "output_type": "stream",
     "text": [
      "+----------+-------------------+\n",
      "|      DATE|         WIND_CHILL|\n",
      "+----------+-------------------+\n",
      "|2017-01-07|-0.4140156367932173|\n",
      "|2017-12-31| 2.0339767075993116|\n",
      "|2017-12-27|  3.820645509123832|\n",
      "|2017-12-28|  4.533355722189887|\n",
      "|2017-01-06|  4.868933492954463|\n",
      "|2017-01-08| 7.9297477586501355|\n",
      "|2017-12-25| 14.285112249501509|\n",
      "|2017-12-30| 14.539211703072954|\n",
      "|2017-01-05| 14.748862734421175|\n",
      "|2017-12-26| 15.688976894741815|\n",
      "+----------+-------------------+\n",
      "\n"
     ]
    }
   ],
   "source": [
    "# THIS CELL COMPUTES THE TOP 10 DAYS OF COLDEST WIND CHILL IN CINCINNATI FOR\n",
    "# THE YEAR 2017\n",
    "\n",
    "# Get a filtered dataset that only considers Cincinnati in 2017.\n",
    "cincy17_cleansed = dataframe \\\n",
    "    .filter((col(\"NAME\") == \"CINCINNATI MUNICIPAL AIRPORT LUNKEN FIELD, OH US\") & (col(\"YEAR\") == 2017))\n",
    "\n",
    "# Calculate wind chill per the given formula and add a corresponding column in a new dataframe.\n",
    "cincy17_chill = cincy17_cleansed \\\n",
    "    .withColumn(\n",
    "        \"WIND_CHILL\",\n",
    "        35.74 + 0.6215 * col(\"TEMP\") - 35.75 * col(\"WDSP\") ** 0.16 + 0.4275 * col(\"TEMP\") * col(\"WDSP\") ** 0.16\n",
    "    )\n",
    "\n",
    "# Order the above to pluck the coldest days by wind chill.\n",
    "cincy17_chill = cincy17_chill \\\n",
    "    .select(\"DATE\", \"WIND_CHILL\") \\\n",
    "    .orderBy(col(\"WIND_CHILL\").asc()) \\\n",
    "    .limit(10)\n",
    "\n",
    "cincy17_chill.show()\n"
   ]
  },
  {
   "cell_type": "code",
   "execution_count": null,
   "metadata": {},
   "outputs": [
    {
     "name": "stdout",
     "output_type": "stream",
     "text": [
      "+----+------+\n",
      "|DATE|FRSHTT|\n",
      "+----+------+\n",
      "+----+------+\n",
      "\n"
     ]
    }
   ],
   "source": [
    "# THIS CELL COMPUTES HOW MANY DAYS HAD EXTREME WEATHER CONDITIONS IN FLORIDA.\n",
    "# FOG, RAIN, SNOW, HAIL, THUNDER, AND TORNADO BEING CONSIDERED EXTREME.\n",
    "\n",
    "# Get data for Florida only.\n",
    "extreme_weather = dataframe \\\n",
    "    .filter(col(\"NAME\") == \"SEBASTIAN INLET STATE PARK, FL US\")\n",
    "    \n",
    "# Further filter the data to only days with extreme weather, then select relevant columns.\n",
    "extreme_weather = extreme_weather \\\n",
    "    .filter(col(\"FRSHTT\") != \"000000\") \\\n",
    "    .select(\"DATE\", \"FRSHTT\")\n",
    "\n",
    "extreme_weather.show()"
   ]
  },
  {
   "cell_type": "code",
   "execution_count": null,
   "metadata": {},
   "outputs": [
    {
     "name": "stdout",
     "output_type": "stream",
     "text": [
      "+----------+------+\n",
      "|      DATE|FRSHTT|\n",
      "+----------+------+\n",
      "|2016-01-04|001000|\n",
      "|2016-01-08|010000|\n",
      "|2016-01-09|100000|\n",
      "|2016-01-10|111000|\n",
      "|2016-01-11|001000|\n",
      "|2016-01-12|001000|\n",
      "|2016-01-15|010000|\n",
      "|2016-01-17|001000|\n",
      "|2016-01-19|001000|\n",
      "|2016-01-20|001000|\n",
      "|2016-01-22|001000|\n",
      "|2016-01-23|001000|\n",
      "|2016-01-26|010000|\n",
      "|2016-01-29|010000|\n",
      "|2016-02-01|010000|\n",
      "|2016-02-02|010000|\n",
      "|2016-02-03|010000|\n",
      "|2016-02-06|100000|\n",
      "|2016-02-08|011000|\n",
      "|2016-02-09|001000|\n",
      "+----------+------+\n",
      "only showing top 20 rows\n",
      "\n"
     ]
    }
   ],
   "source": [
    "# THIS CELL COMPUTES THE SAME METRIC AS ABOVE, BUT FOR CINCINNATI. IT IS AN EFFORT TO\n",
    "# PROVE THAT THERE ARE NO ERRORS IN THE ABOVE.\n",
    "extreme_cin = dataframe \\\n",
    "    .filter(col(\"NAME\") == \"CINCINNATI MUNICIPAL AIRPORT LUNKEN FIELD, OH US\")\n",
    "    \n",
    "extreme_cin = extreme_cin \\\n",
    "    .filter(col(\"FRSHTT\") != \"000000\") \\\n",
    "    .select(\"DATE\", \"FRSHTT\")\n",
    "\n",
    "extreme_cin.show()"
   ]
  },
  {
   "cell_type": "code",
   "execution_count": null,
   "metadata": {},
   "outputs": [
    {
     "name": "stdout",
     "output_type": "stream",
     "text": [
      "+-----+----------------------+\n",
      "|MONTH|PREDICTED_HIGHEST_TEMP|\n",
      "+-----+----------------------+\n",
      "|   11|             84.299995|\n",
      "|   12|                  62.0|\n",
      "+-----+----------------------+\n",
      "\n"
     ]
    }
   ],
   "source": [
    "# THIS CELL PREDICTS THE HIGHEST TEMPERATURES IN NOVEMBER AND DECEMBER 2024.\n",
    "# MY APPROACH IS TO USE THE SIMPLEST MODEL POSSIBLE: FIND THE HIGHEST TEMPS\n",
    "# FOR 2022 AND 2023, MEASURE HOW MUCH THEY CHANGED, AND APPLY THOSE CHANGES\n",
    "# TO 2024. THE PREDICTIONS WILL BE UNSOPHISTICATED, WHICH I'LL DISCUSS\n",
    "# ELSEWHERE.\n",
    "\n",
    "# Trim the dataframe down to only what is needed for prediction and remove\n",
    "# erroneous values.\n",
    "model_data = dataframe \\\n",
    "    .filter(\n",
    "        (col(\"NAME\") == \"CINCINNATI MUNICIPAL AIRPORT LUNKEN FIELD, OH US\") &\n",
    "        (col(\"YEAR\").isin([2022, 2023])) &\n",
    "        (col(\"MONTH\").isin([11, 12])) &\n",
    "        (col(\"MAX\") < 150)\n",
    "    )\n",
    "\n",
    "# Take only the highest temperature for each year and month.\n",
    "model_data = model_data \\\n",
    "    .groupBy(\"YEAR\", \"MONTH\") \\\n",
    "    .agg(\n",
    "        max(\"MAX\").alias(\"HIGHEST_TEMP\")\n",
    "    )\n",
    "\n",
    "# A pivot table will make it easier to compute the differences between\n",
    "# high temps.\n",
    "model_data = model_data \\\n",
    "    .groupBy(\"MONTH\") \\\n",
    "    .pivot(\"YEAR\") \\\n",
    "    .agg(\n",
    "        first(\"HIGHEST_TEMP\")\n",
    "    )\n",
    "\n",
    "# Generate the predictions.\n",
    "predictions = model_data \\\n",
    "    .select(\n",
    "        \"MONTH\",\n",
    "        (col(\"2023\") + (col(\"2023\") - col(\"2022\"))).alias(\"PREDICTED_HIGHEST_TEMP\")\n",
    "    ) \\\n",
    "    .orderBy(col(\"MONTH\").asc())\n",
    "\n",
    "predictions.show()"
   ]
  }
 ],
 "metadata": {
  "kernelspec": {
   "display_name": "Python 3",
   "language": "python",
   "name": "python3"
  },
  "language_info": {
   "codemirror_mode": {
    "name": "ipython",
    "version": 3
   },
   "file_extension": ".py",
   "mimetype": "text/x-python",
   "name": "python",
   "nbconvert_exporter": "python",
   "pygments_lexer": "ipython3",
   "version": "3.10.5"
  }
 },
 "nbformat": 4,
 "nbformat_minor": 2
}
